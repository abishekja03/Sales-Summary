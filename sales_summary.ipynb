{
 "cells": [
  {
   "cell_type": "code",
   "execution_count": 1,
   "id": "34d1e314-aa99-4d63-aa18-78e1812b6d93",
   "metadata": {},
   "outputs": [
    {
     "data": {
      "text/plain": [
       "<sqlite3.Cursor at 0x1ed27176740>"
      ]
     },
     "execution_count": 1,
     "metadata": {},
     "output_type": "execute_result"
    }
   ],
   "source": [
    "import sqlite3\n",
    "import pandas as pd\n",
    "import matplotlib.pyplot as plt\n",
    "\n",
    "# Connect to DB\n",
    "conn = sqlite3.connect(\"sales_data.db\")\n",
    "cursor = conn.cursor()\n",
    "\n",
    "# Create sales table\n",
    "cursor.execute(\"\"\"\n",
    "create tsble if not exists sales (\n",
    "    id integer primary key autoincrement,\n",
    "    product text,\n",
    "    quantity integer,\n",
    "    price real\n",
    ")\n",
    "\"\"\")"
   ]
  },
  {
   "cell_type": "code",
   "execution_count": 2,
   "id": "4e42ad9c-ab82-44ea-9b2a-07fdc76734a4",
   "metadata": {},
   "outputs": [],
   "source": [
    "# Insert dummy data\n",
    "sample_data = [\n",
    "    (\"Laptop\", 5, 60000),\n",
    "    (\"Laptop\", 3, 60000),\n",
    "    (\"Phone\", 10, 20000),\n",
    "    (\"Phone\", 7, 20000),\n",
    "    (\"Tablet\", 4, 30000),\n",
    "    (\"Tablet\", 6, 30000),\n",
    "    (\"Headphones\", 15, 2000),\n",
    "    (\"Headphones\", 20, 2000),\n",
    "]\n",
    "\n",
    "cursor.executemany(\"insert into sales (product, quantity, price) VALUES (?, ?, ?)\", sample_data)\n",
    "conn.commit()\n"
   ]
  },
  {
   "cell_type": "code",
   "execution_count": 3,
   "id": "af462a7f-4366-4662-8583-7cd6f36e0960",
   "metadata": {},
   "outputs": [
    {
     "data": {
      "text/html": [
       "<div>\n",
       "<style scoped>\n",
       "    .dataframe tbody tr th:only-of-type {\n",
       "        vertical-align: middle;\n",
       "    }\n",
       "\n",
       "    .dataframe tbody tr th {\n",
       "        vertical-align: top;\n",
       "    }\n",
       "\n",
       "    .dataframe thead th {\n",
       "        text-align: right;\n",
       "    }\n",
       "</style>\n",
       "<table border=\"1\" class=\"dataframe\">\n",
       "  <thead>\n",
       "    <tr style=\"text-align: right;\">\n",
       "      <th></th>\n",
       "      <th>product</th>\n",
       "      <th>total_qty</th>\n",
       "      <th>revenue</th>\n",
       "    </tr>\n",
       "  </thead>\n",
       "  <tbody>\n",
       "    <tr>\n",
       "      <th>0</th>\n",
       "      <td>Headphones</td>\n",
       "      <td>35</td>\n",
       "      <td>70000.0</td>\n",
       "    </tr>\n",
       "    <tr>\n",
       "      <th>1</th>\n",
       "      <td>Laptop</td>\n",
       "      <td>8</td>\n",
       "      <td>480000.0</td>\n",
       "    </tr>\n",
       "    <tr>\n",
       "      <th>2</th>\n",
       "      <td>Phone</td>\n",
       "      <td>17</td>\n",
       "      <td>340000.0</td>\n",
       "    </tr>\n",
       "    <tr>\n",
       "      <th>3</th>\n",
       "      <td>Tablet</td>\n",
       "      <td>10</td>\n",
       "      <td>300000.0</td>\n",
       "    </tr>\n",
       "  </tbody>\n",
       "</table>\n",
       "</div>"
      ],
      "text/plain": [
       "      product  total_qty   revenue\n",
       "0  Headphones         35   70000.0\n",
       "1      Laptop          8  480000.0\n",
       "2       Phone         17  340000.0\n",
       "3      Tablet         10  300000.0"
      ]
     },
     "execution_count": 3,
     "metadata": {},
     "output_type": "execute_result"
    }
   ],
   "source": [
    "query = \"\"\"\n",
    "select \n",
    "    product, \n",
    "    sum(quantity) as total_qty, \n",
    "    sum(quantity * price) as revenue\n",
    "from sales\n",
    "group by product\n",
    "\"\"\"\n",
    "df = pd.read_sql_query(query, conn)\n",
    "df\n"
   ]
  },
  {
   "cell_type": "code",
   "execution_count": 4,
   "id": "9187389d-7eff-4941-919e-b357903183a8",
   "metadata": {},
   "outputs": [
    {
     "data": {
      "text/plain": [
       "<Figure size 800x500 with 0 Axes>"
      ]
     },
     "metadata": {},
     "output_type": "display_data"
    },
    {
     "data": {
      "image/png": "[encoded data removed]",
      "text/plain": [
       "<Figure size 640x480 with 1 Axes>"
      ]
     },
     "metadata": {},
     "output_type": "display_data"
    }
   ],
   "source": [
    "plt.figure(figsize=(8, 5))\n",
    "df.plot(kind=\"bar\", x=\"product\", y=\"revenue\", legend=False, color=\"skyblue\")\n",
    "plt.title(\"Revenue by Product\")\n",
    "plt.xlabel(\"Product\")\n",
    "plt.ylabel(\"Revenue\")\n",
    "plt.xticks(rotation=45)\n",
    "plt.tight_layout()\n",
    "plt.show()\n"
   ]
  },
  {
   "cell_type": "code",
   "execution_count": 5,
   "id": "58ac1705-1f95-46f7-a0f7-a63a335e76fe",
   "metadata": {},
   "outputs": [],
   "source": [
    "conn.close()"
   ]
  },
  {
   "cell_type": "code",
   "execution_count": null,
   "id": "4b1fd7f8-5e74-4041-8d65-8df09f77a7e6",
   "metadata": {},
   "outputs": [],
   "source": []
  }
 ],
 "metadata": {
  "kernelspec": {
   "display_name": "Python 3 (ipykernel)",
   "language": "python",
   "name": "python3"
  },
  "language_info": {
   "codemirror_mode": {
    "name": "ipython",
    "version": 3
   },
   "file_extension": ".py",
   "mimetype": "text/x-python",
   "name": "python",
   "nbconvert_exporter": "python",
   "pygments_lexer": "ipython3",
   "version": "3.11.0"
  }
 },
 "nbformat": 4,
 "nbformat_minor": 5
}
